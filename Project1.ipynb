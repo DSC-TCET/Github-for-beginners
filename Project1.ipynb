{
  "nbformat": 4,
  "nbformat_minor": 0,
  "metadata": {
    "colab": {
      "provenance": [],
      "collapsed_sections": [],
      "authorship_tag": "ABX9TyOi7yycKkY3F75dJenTEuEl"
    },
    "kernelspec": {
      "name": "python3",
      "display_name": "Python 3"
    },
    "language_info": {
      "name": "python"
    }
  },
  "cells": [
    {
      "cell_type": "code",
      "execution_count": 9,
      "metadata": {
        "id": "k5PnzWUGgYth",
        "colab": {
          "base_uri": "https://localhost:8080/"
        },
        "outputId": "f6c11bec-f685-4e79-9c30-7e19fea475a0"
      },
      "outputs": [
        {
          "output_type": "stream",
          "name": "stdout",
          "text": [
            "Computer Turn:-  1} Rock  2} Scissor 3} Paper\n",
            "Enter The Number 1\n",
            "Computer chooses Paper\n",
            "You chooses Rock\n",
            "Computer has beaten you\n"
          ]
        }
      ],
      "source": [
        "import random\n",
        "\n",
        "def Game(b,a):\n",
        "  if(b==a):\n",
        "    return None\n",
        "  elif a==1:\n",
        "    if(b==3):\n",
        "      return True\n",
        "    else:\n",
        "      return False\n",
        "  elif a==2:\n",
        "    if(b==1):\n",
        "      return True\n",
        "    else:\n",
        "      return False\n",
        "  elif a==3:\n",
        "    if b==2:\n",
        "      return True\n",
        "    else:\n",
        "      return False\n",
        "  \n",
        "print(\"Computer Turn:-  1} Rock  2} Scissor 3} Paper\")\n",
        "a=random.randint(1,3)\n",
        "\n",
        "My_Turn=int(input(\"Enter The Number \"))\n",
        "b=Game(My_Turn,a)\n",
        "\n",
        "if a==1:\n",
        "  bot=1\n",
        "  c=\"Rock\"\n",
        "elif a==2:\n",
        "  bot=2\n",
        "  c=\"Scissor\"\n",
        "else:\n",
        "  bot=3\n",
        "  c=\"Paper\"\n",
        "\n",
        "\n",
        "if My_Turn==1:\n",
        "  d=\"Rock\"\n",
        "elif My_Turn==2:\n",
        "  d=\"Scissor\"\n",
        "else:\n",
        "  d=\"Paper\"\n",
        "\n",
        "print(f\"Computer chooses {c}\")\n",
        "print(f\"You chooses {d}\")\n",
        "\n",
        "if b==None:\n",
        "  print(\"The Game is Tie\")\n",
        "elif b==True:\n",
        "  print(\"You Beat The Computer\")\n",
        "elif b==False:\n",
        "  print(\"Computer has beaten you\")"
      ]
    }
  ]
}